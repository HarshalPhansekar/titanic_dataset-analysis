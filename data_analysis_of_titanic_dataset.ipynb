{
  "nbformat": 4,
  "nbformat_minor": 0,
  "metadata": {
    "kernelspec": {
      "display_name": "Python 3",
      "language": "python",
      "name": "python3"
    },
    "language_info": {
      "codemirror_mode": {
        "name": "ipython",
        "version": 3
      },
      "file_extension": ".py",
      "mimetype": "text/x-python",
      "name": "python",
      "nbconvert_exporter": "python",
      "pygments_lexer": "ipython3",
      "version": "3.7.6"
    },
    "papermill": {
      "duration": 22.158457,
      "end_time": "2020-09-18T13:03:49.212644",
      "environment_variables": {},
      "exception": null,
      "input_path": "__notebook__.ipynb",
      "output_path": "__notebook__.ipynb",
      "parameters": {},
      "start_time": "2020-09-18T13:03:27.054187",
      "version": "2.1.0"
    },
    "colab": {
      "name": "data-analysis-of-titanic-dataset.ipynb",
      "provenance": [],
      "toc_visible": true
    }
  },
  "cells": [
    {
      "cell_type": "markdown",
      "metadata": {
        "papermill": {
          "duration": 0.037529,
          "end_time": "2020-09-18T13:03:33.007734",
          "exception": false,
          "start_time": "2020-09-18T13:03:32.970205",
          "status": "completed"
        },
        "tags": [],
        "id": "oJdcy5A6yBHV"
      },
      "source": [
        "# 1. IMPORTING LIBRARIES"
      ]
    },
    {
      "cell_type": "code",
      "metadata": {
        "_cell_guid": "79c7e3d0-c299-4dcb-8224-4455121ee9b0",
        "_uuid": "d629ff2d2480ee46fbb7e2d37f6b5fab8052498a",
        "execution": {
          "iopub.execute_input": "2020-09-18T13:03:33.094625Z",
          "iopub.status.busy": "2020-09-18T13:03:33.093671Z",
          "iopub.status.idle": "2020-09-18T13:03:34.983438Z",
          "shell.execute_reply": "2020-09-18T13:03:34.982720Z"
        },
        "papermill": {
          "duration": 1.938293,
          "end_time": "2020-09-18T13:03:34.983595",
          "exception": false,
          "start_time": "2020-09-18T13:03:33.045302",
          "status": "completed"
        },
        "tags": [],
        "id": "EYjZti5kyBHW"
      },
      "source": [
        "import numpy as np \n",
        "import pandas as pd \n",
        "import seaborn as sns\n",
        "%matplotlib inline\n",
        "\n",
        "from matplotlib import pyplot as plt\n",
        "from matplotlib import style\n",
        "from sklearn import linear_model\n",
        "from sklearn.linear_model import LogisticRegression\n",
        "from sklearn.ensemble import RandomForestClassifier\n",
        "from sklearn.linear_model import Perceptron\n",
        "from sklearn.linear_model import SGDClassifier\n",
        "from sklearn.tree import DecisionTreeClassifier\n",
        "from sklearn.neighbors import KNeighborsClassifier\n",
        "from sklearn.svm import SVC, LinearSVC\n",
        "from sklearn.naive_bayes import GaussianNB"
      ],
      "execution_count": 44,
      "outputs": []
    },
    {
      "cell_type": "markdown",
      "metadata": {
        "papermill": {
          "duration": 0.035611,
          "end_time": "2020-09-18T13:03:35.055951",
          "exception": false,
          "start_time": "2020-09-18T13:03:35.020340",
          "status": "completed"
        },
        "tags": [],
        "id": "fo2Re7y8yBHX"
      },
      "source": [
        "# 2. IMPORTING DATASET"
      ]
    },
    {
      "cell_type": "markdown",
      "metadata": {
        "id": "Zfy8bSgsy-so"
      },
      "source": [
        "**data description**                                                            \r\n",
        "survival: Survival (0 = No; 1 = Yes)                                            \r\n",
        "pclass: Passenger Class (1 = 1st; 2 = 2nd; 3 = 3rd)                             \r\n",
        "name: Name                                                                      \r\n",
        "sex: Sex                                                                        \r\n",
        "age: Age                                                                        \r\n",
        "sibsp: Number of Siblings/Spouses Aboard                                     \r\n",
        "parch: Number of Parents/Children Aboard                                       \r\n",
        "ticket: Ticket Number                                                           \r\n",
        "fare: Passenger Fare                                                            \r\n",
        "cabin: Cabin                                                                    \r\n",
        "embarked: Port of Embarkation (C = Cherbourg; Q = Queenstown; S = Southampton)  "
      ]
    },
    {
      "cell_type": "code",
      "metadata": {
        "execution": {
          "iopub.execute_input": "2020-09-18T13:03:35.139036Z",
          "iopub.status.busy": "2020-09-18T13:03:35.137991Z",
          "iopub.status.idle": "2020-09-18T13:03:35.165976Z",
          "shell.execute_reply": "2020-09-18T13:03:35.165088Z"
        },
        "papermill": {
          "duration": 0.07281,
          "end_time": "2020-09-18T13:03:35.166132",
          "exception": false,
          "start_time": "2020-09-18T13:03:35.093322",
          "status": "completed"
        },
        "tags": [],
        "id": "vo9XHZ5GyBHX"
      },
      "source": [
        "train_df=pd.read_csv(\"train.csv\")\n",
        "test_df=pd.read_csv(\"test.csv\")"
      ],
      "execution_count": 45,
      "outputs": []
    },
    {
      "cell_type": "code",
      "metadata": {
        "colab": {
          "base_uri": "https://localhost:8080/",
          "height": 194
        },
        "id": "RuEzVQYOyWnO",
        "outputId": "80a75d07-2c83-4411-9167-0ffa5d64d92c"
      },
      "source": [
        "train_df.head()"
      ],
      "execution_count": 46,
      "outputs": [
        {
          "output_type": "execute_result",
          "data": {
            "text/html": [
              "<div>\n",
              "<style scoped>\n",
              "    .dataframe tbody tr th:only-of-type {\n",
              "        vertical-align: middle;\n",
              "    }\n",
              "\n",
              "    .dataframe tbody tr th {\n",
              "        vertical-align: top;\n",
              "    }\n",
              "\n",
              "    .dataframe thead th {\n",
              "        text-align: right;\n",
              "    }\n",
              "</style>\n",
              "<table border=\"1\" class=\"dataframe\">\n",
              "  <thead>\n",
              "    <tr style=\"text-align: right;\">\n",
              "      <th></th>\n",
              "      <th>PassengerId</th>\n",
              "      <th>Survived</th>\n",
              "      <th>Pclass</th>\n",
              "      <th>Name</th>\n",
              "      <th>Sex</th>\n",
              "      <th>Age</th>\n",
              "      <th>SibSp</th>\n",
              "      <th>Parch</th>\n",
              "      <th>Ticket</th>\n",
              "      <th>Fare</th>\n",
              "      <th>Cabin</th>\n",
              "      <th>Embarked</th>\n",
              "    </tr>\n",
              "  </thead>\n",
              "  <tbody>\n",
              "    <tr>\n",
              "      <th>0</th>\n",
              "      <td>1</td>\n",
              "      <td>0</td>\n",
              "      <td>3</td>\n",
              "      <td>Braund, Mr. Owen Harris</td>\n",
              "      <td>male</td>\n",
              "      <td>22.0</td>\n",
              "      <td>1</td>\n",
              "      <td>0</td>\n",
              "      <td>A/5 21171</td>\n",
              "      <td>7.2500</td>\n",
              "      <td>NaN</td>\n",
              "      <td>S</td>\n",
              "    </tr>\n",
              "    <tr>\n",
              "      <th>1</th>\n",
              "      <td>2</td>\n",
              "      <td>1</td>\n",
              "      <td>1</td>\n",
              "      <td>Cumings, Mrs. John Bradley (Florence Briggs Th...</td>\n",
              "      <td>female</td>\n",
              "      <td>38.0</td>\n",
              "      <td>1</td>\n",
              "      <td>0</td>\n",
              "      <td>PC 17599</td>\n",
              "      <td>71.2833</td>\n",
              "      <td>C85</td>\n",
              "      <td>C</td>\n",
              "    </tr>\n",
              "    <tr>\n",
              "      <th>2</th>\n",
              "      <td>3</td>\n",
              "      <td>1</td>\n",
              "      <td>3</td>\n",
              "      <td>Heikkinen, Miss. Laina</td>\n",
              "      <td>female</td>\n",
              "      <td>26.0</td>\n",
              "      <td>0</td>\n",
              "      <td>0</td>\n",
              "      <td>STON/O2. 3101282</td>\n",
              "      <td>7.9250</td>\n",
              "      <td>NaN</td>\n",
              "      <td>S</td>\n",
              "    </tr>\n",
              "    <tr>\n",
              "      <th>3</th>\n",
              "      <td>4</td>\n",
              "      <td>1</td>\n",
              "      <td>1</td>\n",
              "      <td>Futrelle, Mrs. Jacques Heath (Lily May Peel)</td>\n",
              "      <td>female</td>\n",
              "      <td>35.0</td>\n",
              "      <td>1</td>\n",
              "      <td>0</td>\n",
              "      <td>113803</td>\n",
              "      <td>53.1000</td>\n",
              "      <td>C123</td>\n",
              "      <td>S</td>\n",
              "    </tr>\n",
              "    <tr>\n",
              "      <th>4</th>\n",
              "      <td>5</td>\n",
              "      <td>0</td>\n",
              "      <td>3</td>\n",
              "      <td>Allen, Mr. William Henry</td>\n",
              "      <td>male</td>\n",
              "      <td>35.0</td>\n",
              "      <td>0</td>\n",
              "      <td>0</td>\n",
              "      <td>373450</td>\n",
              "      <td>8.0500</td>\n",
              "      <td>NaN</td>\n",
              "      <td>S</td>\n",
              "    </tr>\n",
              "  </tbody>\n",
              "</table>\n",
              "</div>"
            ],
            "text/plain": [
              "   PassengerId  Survived  Pclass  ...     Fare Cabin  Embarked\n",
              "0            1         0       3  ...   7.2500   NaN         S\n",
              "1            2         1       1  ...  71.2833   C85         C\n",
              "2            3         1       3  ...   7.9250   NaN         S\n",
              "3            4         1       1  ...  53.1000  C123         S\n",
              "4            5         0       3  ...   8.0500   NaN         S\n",
              "\n",
              "[5 rows x 12 columns]"
            ]
          },
          "metadata": {
            "tags": []
          },
          "execution_count": 46
        }
      ]
    },
    {
      "cell_type": "code",
      "metadata": {
        "colab": {
          "base_uri": "https://localhost:8080/",
          "height": 194
        },
        "id": "n3WB_NfxyY9f",
        "outputId": "f2d0dd15-8ae8-4781-d33b-9cc6f1d6ff03"
      },
      "source": [
        "test_df.head()"
      ],
      "execution_count": 47,
      "outputs": [
        {
          "output_type": "execute_result",
          "data": {
            "text/html": [
              "<div>\n",
              "<style scoped>\n",
              "    .dataframe tbody tr th:only-of-type {\n",
              "        vertical-align: middle;\n",
              "    }\n",
              "\n",
              "    .dataframe tbody tr th {\n",
              "        vertical-align: top;\n",
              "    }\n",
              "\n",
              "    .dataframe thead th {\n",
              "        text-align: right;\n",
              "    }\n",
              "</style>\n",
              "<table border=\"1\" class=\"dataframe\">\n",
              "  <thead>\n",
              "    <tr style=\"text-align: right;\">\n",
              "      <th></th>\n",
              "      <th>PassengerId</th>\n",
              "      <th>Pclass</th>\n",
              "      <th>Name</th>\n",
              "      <th>Sex</th>\n",
              "      <th>Age</th>\n",
              "      <th>SibSp</th>\n",
              "      <th>Parch</th>\n",
              "      <th>Ticket</th>\n",
              "      <th>Fare</th>\n",
              "      <th>Cabin</th>\n",
              "      <th>Embarked</th>\n",
              "    </tr>\n",
              "  </thead>\n",
              "  <tbody>\n",
              "    <tr>\n",
              "      <th>0</th>\n",
              "      <td>892</td>\n",
              "      <td>3</td>\n",
              "      <td>Kelly, Mr. James</td>\n",
              "      <td>male</td>\n",
              "      <td>34.5</td>\n",
              "      <td>0</td>\n",
              "      <td>0</td>\n",
              "      <td>330911</td>\n",
              "      <td>7.8292</td>\n",
              "      <td>NaN</td>\n",
              "      <td>Q</td>\n",
              "    </tr>\n",
              "    <tr>\n",
              "      <th>1</th>\n",
              "      <td>893</td>\n",
              "      <td>3</td>\n",
              "      <td>Wilkes, Mrs. James (Ellen Needs)</td>\n",
              "      <td>female</td>\n",
              "      <td>47.0</td>\n",
              "      <td>1</td>\n",
              "      <td>0</td>\n",
              "      <td>363272</td>\n",
              "      <td>7.0000</td>\n",
              "      <td>NaN</td>\n",
              "      <td>S</td>\n",
              "    </tr>\n",
              "    <tr>\n",
              "      <th>2</th>\n",
              "      <td>894</td>\n",
              "      <td>2</td>\n",
              "      <td>Myles, Mr. Thomas Francis</td>\n",
              "      <td>male</td>\n",
              "      <td>62.0</td>\n",
              "      <td>0</td>\n",
              "      <td>0</td>\n",
              "      <td>240276</td>\n",
              "      <td>9.6875</td>\n",
              "      <td>NaN</td>\n",
              "      <td>Q</td>\n",
              "    </tr>\n",
              "    <tr>\n",
              "      <th>3</th>\n",
              "      <td>895</td>\n",
              "      <td>3</td>\n",
              "      <td>Wirz, Mr. Albert</td>\n",
              "      <td>male</td>\n",
              "      <td>27.0</td>\n",
              "      <td>0</td>\n",
              "      <td>0</td>\n",
              "      <td>315154</td>\n",
              "      <td>8.6625</td>\n",
              "      <td>NaN</td>\n",
              "      <td>S</td>\n",
              "    </tr>\n",
              "    <tr>\n",
              "      <th>4</th>\n",
              "      <td>896</td>\n",
              "      <td>3</td>\n",
              "      <td>Hirvonen, Mrs. Alexander (Helga E Lindqvist)</td>\n",
              "      <td>female</td>\n",
              "      <td>22.0</td>\n",
              "      <td>1</td>\n",
              "      <td>1</td>\n",
              "      <td>3101298</td>\n",
              "      <td>12.2875</td>\n",
              "      <td>NaN</td>\n",
              "      <td>S</td>\n",
              "    </tr>\n",
              "  </tbody>\n",
              "</table>\n",
              "</div>"
            ],
            "text/plain": [
              "   PassengerId  Pclass  ... Cabin Embarked\n",
              "0          892       3  ...   NaN        Q\n",
              "1          893       3  ...   NaN        S\n",
              "2          894       2  ...   NaN        Q\n",
              "3          895       3  ...   NaN        S\n",
              "4          896       3  ...   NaN        S\n",
              "\n",
              "[5 rows x 11 columns]"
            ]
          },
          "metadata": {
            "tags": []
          },
          "execution_count": 47
        }
      ]
    },
    {
      "cell_type": "markdown",
      "metadata": {
        "papermill": {
          "duration": 0.036612,
          "end_time": "2020-09-18T13:03:35.239075",
          "exception": false,
          "start_time": "2020-09-18T13:03:35.202463",
          "status": "completed"
        },
        "tags": [],
        "id": "G44WffwSyBHY"
      },
      "source": [
        "# 3. EXPLORATORY ANALYSIS"
      ]
    },
    {
      "cell_type": "markdown",
      "metadata": {
        "id": "Bw07zN7MyeZf"
      },
      "source": [
        "**checking for null values and dealing with them**"
      ]
    },
    {
      "cell_type": "code",
      "metadata": {
        "execution": {
          "iopub.execute_input": "2020-09-18T13:03:35.323495Z",
          "iopub.status.busy": "2020-09-18T13:03:35.321997Z",
          "iopub.status.idle": "2020-09-18T13:03:35.404177Z",
          "shell.execute_reply": "2020-09-18T13:03:35.402199Z"
        },
        "papermill": {
          "duration": 0.128231,
          "end_time": "2020-09-18T13:03:35.404478",
          "exception": false,
          "start_time": "2020-09-18T13:03:35.276247",
          "status": "completed"
        },
        "tags": [],
        "colab": {
          "base_uri": "https://localhost:8080/",
          "height": 194
        },
        "id": "bodoqHWsyBHY",
        "outputId": "45ae9b08-249b-4206-ec17-ad63a872c91a"
      },
      "source": [
        "count = train_df.isnull().sum().sort_values(ascending=False)\n",
        "percent_train = train_df.isnull().sum()/train_df.isnull().count()*100\n",
        "percent_test = (round(percent_train, 1)).sort_values(ascending=False)\n",
        "missing_data = pd.concat([count, percent_test], axis=1, keys=['Count', '%'])\n",
        "missing_data.head(5)"
      ],
      "execution_count": 48,
      "outputs": [
        {
          "output_type": "execute_result",
          "data": {
            "text/html": [
              "<div>\n",
              "<style scoped>\n",
              "    .dataframe tbody tr th:only-of-type {\n",
              "        vertical-align: middle;\n",
              "    }\n",
              "\n",
              "    .dataframe tbody tr th {\n",
              "        vertical-align: top;\n",
              "    }\n",
              "\n",
              "    .dataframe thead th {\n",
              "        text-align: right;\n",
              "    }\n",
              "</style>\n",
              "<table border=\"1\" class=\"dataframe\">\n",
              "  <thead>\n",
              "    <tr style=\"text-align: right;\">\n",
              "      <th></th>\n",
              "      <th>Count</th>\n",
              "      <th>%</th>\n",
              "    </tr>\n",
              "  </thead>\n",
              "  <tbody>\n",
              "    <tr>\n",
              "      <th>Cabin</th>\n",
              "      <td>687</td>\n",
              "      <td>77.1</td>\n",
              "    </tr>\n",
              "    <tr>\n",
              "      <th>Age</th>\n",
              "      <td>177</td>\n",
              "      <td>19.9</td>\n",
              "    </tr>\n",
              "    <tr>\n",
              "      <th>Embarked</th>\n",
              "      <td>2</td>\n",
              "      <td>0.2</td>\n",
              "    </tr>\n",
              "    <tr>\n",
              "      <th>Fare</th>\n",
              "      <td>0</td>\n",
              "      <td>0.0</td>\n",
              "    </tr>\n",
              "    <tr>\n",
              "      <th>Ticket</th>\n",
              "      <td>0</td>\n",
              "      <td>0.0</td>\n",
              "    </tr>\n",
              "  </tbody>\n",
              "</table>\n",
              "</div>"
            ],
            "text/plain": [
              "          Count     %\n",
              "Cabin       687  77.1\n",
              "Age         177  19.9\n",
              "Embarked      2   0.2\n",
              "Fare          0   0.0\n",
              "Ticket        0   0.0"
            ]
          },
          "metadata": {
            "tags": []
          },
          "execution_count": 48
        }
      ]
    },
    {
      "cell_type": "markdown",
      "metadata": {
        "papermill": {
          "duration": 0.04482,
          "end_time": "2020-09-18T13:03:35.497021",
          "exception": false,
          "start_time": "2020-09-18T13:03:35.452201",
          "status": "completed"
        },
        "tags": [],
        "id": "Fwe4ds2EyBHZ"
      },
      "source": [
        "The Embarked feature has 2 missing values , while age feature has 177 missing values and cabin feature has 687 missing values. So we can drop cabin feature as it contains 77% missing values from dataset. But before dropping any feature we will first check which feature contributes to survival rate of passenger"
      ]
    },
    {
      "cell_type": "code",
      "metadata": {
        "execution": {
          "iopub.execute_input": "2020-09-18T13:03:35.590040Z",
          "iopub.status.busy": "2020-09-18T13:03:35.584410Z",
          "iopub.status.idle": "2020-09-18T13:03:36.409104Z",
          "shell.execute_reply": "2020-09-18T13:03:36.409672Z"
        },
        "papermill": {
          "duration": 0.874103,
          "end_time": "2020-09-18T13:03:36.409850",
          "exception": false,
          "start_time": "2020-09-18T13:03:35.535747",
          "status": "completed"
        },
        "tags": [],
        "colab": {
          "base_uri": "https://localhost:8080/",
          "height": 457
        },
        "id": "WD1EgRyeyBHZ",
        "outputId": "25abf07e-1260-4847-ab98-6427e6cda82f"
      },
      "source": [
        "survived = 'survived'\n",
        "not_survived = 'not survived'\n",
        "fig, axes = plt.subplots(nrows=1, ncols=2,figsize=(10, 4))\n",
        "women = train_df[train_df['Sex']=='female']\n",
        "men = train_df[train_df['Sex']=='male']\n",
        "ax = sns.distplot(women[women['Survived']==1].Age.dropna(), bins=18, label = survived, ax = axes[0], kde =False)\n",
        "ax = sns.distplot(women[women['Survived']==0].Age.dropna(), bins=40, label = not_survived, ax = axes[0], kde =False)\n",
        "ax.legend()\n",
        "ax.set_title('Female')\n",
        "ax = sns.distplot(men[men['Survived']==1].Age.dropna(), bins=18, label = survived, ax = axes[1], kde = False)\n",
        "ax = sns.distplot(men[men['Survived']==0].Age.dropna(), bins=40, label = not_survived, ax = axes[1], kde = False)\n",
        "ax.legend()\n",
        "_ = ax.set_title('Male')"
      ],
      "execution_count": 49,
      "outputs": [
        {
          "output_type": "stream",
          "text": [
            "/usr/local/lib/python3.6/dist-packages/seaborn/distributions.py:2557: FutureWarning: `distplot` is a deprecated function and will be removed in a future version. Please adapt your code to use either `displot` (a figure-level function with similar flexibility) or `histplot` (an axes-level function for histograms).\n",
            "  warnings.warn(msg, FutureWarning)\n",
            "/usr/local/lib/python3.6/dist-packages/seaborn/distributions.py:2557: FutureWarning: `distplot` is a deprecated function and will be removed in a future version. Please adapt your code to use either `displot` (a figure-level function with similar flexibility) or `histplot` (an axes-level function for histograms).\n",
            "  warnings.warn(msg, FutureWarning)\n",
            "/usr/local/lib/python3.6/dist-packages/seaborn/distributions.py:2557: FutureWarning: `distplot` is a deprecated function and will be removed in a future version. Please adapt your code to use either `displot` (a figure-level function with similar flexibility) or `histplot` (an axes-level function for histograms).\n",
            "  warnings.warn(msg, FutureWarning)\n",
            "/usr/local/lib/python3.6/dist-packages/seaborn/distributions.py:2557: FutureWarning: `distplot` is a deprecated function and will be removed in a future version. Please adapt your code to use either `displot` (a figure-level function with similar flexibility) or `histplot` (an axes-level function for histograms).\n",
            "  warnings.warn(msg, FutureWarning)\n"
          ],
          "name": "stderr"
        },
        {
          "output_type": "display_data",
          "data": {
            "image/png": "[encoded data removed]",
            "text/plain": [
              "<Figure size 720x288 with 2 Axes>"
            ]
          },
          "metadata": {
            "tags": [],
            "needs_background": "light"
          }
        }
      ]
    },
    {
      "cell_type": "markdown",
      "metadata": {
        "papermill": {
          "duration": 0.037676,
          "end_time": "2020-09-18T13:03:36.485567",
          "exception": false,
          "start_time": "2020-09-18T13:03:36.447891",
          "status": "completed"
        },
        "tags": [],
        "id": "junj_qOnyBHa"
      },
      "source": [
        "You can see that men have a high probability of survival when they are between 19 and 33 years old, which is also a little bit true for women but not fully. For women the survival chances are higher between 15 and 42.For men the probability of survival is very low between the age of 7 and 19, but that isn’t true for women. Another thing to note is that infants also have a little bit higher probability of survival."
      ]
    },
    {
      "cell_type": "code",
      "metadata": {
        "execution": {
          "iopub.execute_input": "2020-09-18T13:03:36.569242Z",
          "iopub.status.busy": "2020-09-18T13:03:36.568423Z",
          "iopub.status.idle": "2020-09-18T13:03:38.225774Z",
          "shell.execute_reply": "2020-09-18T13:03:38.224966Z"
        },
        "papermill": {
          "duration": 1.702569,
          "end_time": "2020-09-18T13:03:38.225926",
          "exception": false,
          "start_time": "2020-09-18T13:03:36.523357",
          "status": "completed"
        },
        "tags": [],
        "colab": {
          "base_uri": "https://localhost:8080/",
          "height": 1000
        },
        "id": "-W2kNcjMyBHb",
        "outputId": "b840ae1b-f1d0-4f27-89e0-8b2d698e5cf0"
      },
      "source": [
        "FacetGrid = sns.FacetGrid(train_df, row='Embarked', size=4.5, aspect=1.6)\n",
        "FacetGrid.map(sns.pointplot, 'Pclass', 'Survived', 'Sex', palette=None,  order=None, hue_order=None )\n",
        "FacetGrid.add_legend()"
      ],
      "execution_count": 50,
      "outputs": [
        {
          "output_type": "stream",
          "text": [
            "/usr/local/lib/python3.6/dist-packages/seaborn/axisgrid.py:316: UserWarning: The `size` parameter has been renamed to `height`; please update your code.\n",
            "  warnings.warn(msg, UserWarning)\n"
          ],
          "name": "stderr"
        },
        {
          "output_type": "execute_result",
          "data": {
            "text/plain": [
              "<seaborn.axisgrid.FacetGrid at 0x7f5738ef7048>"
            ]
          },
          "metadata": {
            "tags": []
          },
          "execution_count": 50
        },
        {
          "output_type": "display_data",
          "data": {
            "image/png": "[encoded data removed]",
            "text/plain": [
              "<Figure size 588.9x972 with 3 Axes>"
            ]
          },
          "metadata": {
            "tags": [],
            "needs_background": "light"
          }
        }
      ]
    },
    {
      "cell_type": "markdown",
      "metadata": {
        "papermill": {
          "duration": 0.042658,
          "end_time": "2020-09-18T13:03:38.319064",
          "exception": false,
          "start_time": "2020-09-18T13:03:38.276406",
          "status": "completed"
        },
        "tags": [],
        "id": "QHvlgCHvyBHb"
      },
      "source": [
        "Embarked seems to be correlated with survival, depending on the gender.Women on port Q and on port S have a higher chance of survival. The inverse is true, if they are at port C. Men have a high survival probability if they are on port C, but a low probability if they are on port Q or S. Pclass also seems to be correlated with survival."
      ]
    },
    {
      "cell_type": "code",
      "metadata": {
        "execution": {
          "iopub.execute_input": "2020-09-18T13:03:38.414186Z",
          "iopub.status.busy": "2020-09-18T13:03:38.413319Z",
          "iopub.status.idle": "2020-09-18T13:03:39.058224Z",
          "shell.execute_reply": "2020-09-18T13:03:39.057413Z"
        },
        "papermill": {
          "duration": 0.696889,
          "end_time": "2020-09-18T13:03:39.058361",
          "exception": false,
          "start_time": "2020-09-18T13:03:38.361472",
          "status": "completed"
        },
        "tags": [],
        "colab": {
          "base_uri": "https://localhost:8080/",
          "height": 474
        },
        "id": "rqnS64WmyBHc",
        "outputId": "11cd686d-93d2-4ed7-81e2-75a2c7d6cff8"
      },
      "source": [
        "data = [train_df, test_df]\n",
        "for dataset in data:\n",
        "    dataset['relatives'] = dataset['SibSp'] + dataset['Parch']\n",
        "    dataset.loc[dataset['relatives'] > 0, 'not_alone'] = 0\n",
        "    dataset.loc[dataset['relatives'] == 0, 'not_alone'] = 1\n",
        "    dataset['not_alone'] = dataset['not_alone'].astype(int)\n",
        "axes = sns.factorplot('relatives','Survived', \n",
        "                      data=train_df, aspect = 2.5, )"
      ],
      "execution_count": 51,
      "outputs": [
        {
          "output_type": "stream",
          "text": [
            "/usr/local/lib/python3.6/dist-packages/seaborn/categorical.py:3714: UserWarning: The `factorplot` function has been renamed to `catplot`. The original name will be removed in a future release. Please update your code. Note that the default `kind` in `factorplot` (`'point'`) has changed `'strip'` in `catplot`.\n",
            "  warnings.warn(msg)\n",
            "/usr/local/lib/python3.6/dist-packages/seaborn/_decorators.py:43: FutureWarning: Pass the following variables as keyword args: x, y. From version 0.12, the only valid positional argument will be `data`, and passing other arguments without an explicit keyword will result in an error or misinterpretation.\n",
            "  FutureWarning\n"
          ],
          "name": "stderr"
        },
        {
          "output_type": "display_data",
          "data": {
            "image/png": "[encoded data removed]",
            "text/plain": [
              "<Figure size 900x360 with 1 Axes>"
            ]
          },
          "metadata": {
            "tags": [],
            "needs_background": "light"
          }
        }
      ]
    },
    {
      "cell_type": "markdown",
      "metadata": {
        "papermill": {
          "duration": 0.041861,
          "end_time": "2020-09-18T13:03:39.142601",
          "exception": false,
          "start_time": "2020-09-18T13:03:39.100740",
          "status": "completed"
        },
        "tags": [],
        "id": "odfqKgu6yBHd"
      },
      "source": [
        "we can see that you had a high probabilty of survival with 1 to 3 realitves, but a lower one if you had less than 1 or more than 3 (except for some cases with 6 relatives)."
      ]
    },
    {
      "cell_type": "markdown",
      "metadata": {
        "papermill": {
          "duration": 0.042241,
          "end_time": "2020-09-18T13:03:39.228270",
          "exception": false,
          "start_time": "2020-09-18T13:03:39.186029",
          "status": "completed"
        },
        "tags": [],
        "id": "CCnF40YFyBHd"
      },
      "source": [
        "# 4. DATA PREPROCESSING"
      ]
    },
    {
      "cell_type": "code",
      "metadata": {
        "execution": {
          "iopub.execute_input": "2020-09-18T13:03:39.346663Z",
          "iopub.status.busy": "2020-09-18T13:03:39.345652Z",
          "iopub.status.idle": "2020-09-18T13:03:39.350711Z",
          "shell.execute_reply": "2020-09-18T13:03:39.350095Z"
        },
        "papermill": {
          "duration": 0.078844,
          "end_time": "2020-09-18T13:03:39.350833",
          "exception": false,
          "start_time": "2020-09-18T13:03:39.271989",
          "status": "completed"
        },
        "tags": [],
        "colab": {
          "base_uri": "https://localhost:8080/"
        },
        "id": "cAbYwqguyBHd",
        "outputId": "07a6b270-d42e-4621-82dd-d34f82d6edf6"
      },
      "source": [
        "## FOR AGE\n",
        "data = [train_df, test_df]\n",
        "\n",
        "for dataset in data:\n",
        "    mean = train_df[\"Age\"].mean()\n",
        "    std = test_df[\"Age\"].std()\n",
        "    is_null = dataset[\"Age\"].isnull().sum()\n",
        "    # compute random numbers between the mean, std and is_null\n",
        "    rand_age = np.random.randint(mean - std, mean + std, size = is_null)\n",
        "    # fill NaN values in Age column with random values generated\n",
        "    age_slice = dataset[\"Age\"].copy()\n",
        "    age_slice[np.isnan(age_slice)] = rand_age\n",
        "    dataset[\"Age\"] = age_slice\n",
        "    dataset[\"Age\"] = train_df[\"Age\"].astype(int)\n",
        "print(\"null values for AGE feature = \",train_df[\"Age\"].isnull().sum())\n"
      ],
      "execution_count": 52,
      "outputs": [
        {
          "output_type": "stream",
          "text": [
            "null values for AGE feature =  0\n"
          ],
          "name": "stdout"
        }
      ]
    },
    {
      "cell_type": "code",
      "metadata": {
        "execution": {
          "iopub.execute_input": "2020-09-18T13:03:39.454187Z",
          "iopub.status.busy": "2020-09-18T13:03:39.453132Z",
          "iopub.status.idle": "2020-09-18T13:03:39.456756Z",
          "shell.execute_reply": "2020-09-18T13:03:39.457385Z"
        },
        "papermill": {
          "duration": 0.062715,
          "end_time": "2020-09-18T13:03:39.457553",
          "exception": false,
          "start_time": "2020-09-18T13:03:39.394838",
          "status": "completed"
        },
        "tags": [],
        "colab": {
          "base_uri": "https://localhost:8080/"
        },
        "id": "fT6c0zr4yBHe",
        "outputId": "901ded02-10e7-4327-92df-6842bf7ee4ca"
      },
      "source": [
        "## FOR EMBARKED\n",
        "train_df['Embarked'].describe()\n",
        "common_value = 'S'\n",
        "data = [train_df, test_df]\n",
        "\n",
        "for dataset in data:\n",
        "    dataset['Embarked'] = dataset['Embarked'].fillna(common_value)\n",
        "print(\"null values for EMBARKED feature = \",train_df[\"Embarked\"].isnull().sum())"
      ],
      "execution_count": 53,
      "outputs": [
        {
          "output_type": "stream",
          "text": [
            "null values for EMBARKED feature =  0\n"
          ],
          "name": "stdout"
        }
      ]
    },
    {
      "cell_type": "markdown",
      "metadata": {
        "papermill": {
          "duration": 0.044401,
          "end_time": "2020-09-18T13:03:39.546683",
          "exception": false,
          "start_time": "2020-09-18T13:03:39.502282",
          "status": "completed"
        },
        "tags": [],
        "id": "e6Qd3jr3yBHe"
      },
      "source": [
        "# 5. CONVERTING FEATURES"
      ]
    },
    {
      "cell_type": "code",
      "metadata": {
        "execution": {
          "iopub.execute_input": "2020-09-18T13:03:39.663170Z",
          "iopub.status.busy": "2020-09-18T13:03:39.662099Z",
          "iopub.status.idle": "2020-09-18T13:03:39.667085Z",
          "shell.execute_reply": "2020-09-18T13:03:39.667813Z"
        },
        "papermill": {
          "duration": 0.076295,
          "end_time": "2020-09-18T13:03:39.668022",
          "exception": false,
          "start_time": "2020-09-18T13:03:39.591727",
          "status": "completed"
        },
        "tags": [],
        "colab": {
          "base_uri": "https://localhost:8080/"
        },
        "id": "jk5yCtOZyBHf",
        "outputId": "8c57ca2d-e353-46f4-b497-7eb4db0d9ba6"
      },
      "source": [
        "train_df.info()"
      ],
      "execution_count": 54,
      "outputs": [
        {
          "output_type": "stream",
          "text": [
            "<class 'pandas.core.frame.DataFrame'>\n",
            "RangeIndex: 891 entries, 0 to 890\n",
            "Data columns (total 14 columns):\n",
            " #   Column       Non-Null Count  Dtype  \n",
            "---  ------       --------------  -----  \n",
            " 0   PassengerId  891 non-null    int64  \n",
            " 1   Survived     891 non-null    int64  \n",
            " 2   Pclass       891 non-null    int64  \n",
            " 3   Name         891 non-null    object \n",
            " 4   Sex          891 non-null    object \n",
            " 5   Age          891 non-null    int64  \n",
            " 6   SibSp        891 non-null    int64  \n",
            " 7   Parch        891 non-null    int64  \n",
            " 8   Ticket       891 non-null    object \n",
            " 9   Fare         891 non-null    float64\n",
            " 10  Cabin        204 non-null    object \n",
            " 11  Embarked     891 non-null    object \n",
            " 12  relatives    891 non-null    int64  \n",
            " 13  not_alone    891 non-null    int64  \n",
            "dtypes: float64(1), int64(8), object(5)\n",
            "memory usage: 97.6+ KB\n"
          ],
          "name": "stdout"
        }
      ]
    },
    {
      "cell_type": "code",
      "metadata": {
        "execution": {
          "iopub.execute_input": "2020-09-18T13:03:39.779668Z",
          "iopub.status.busy": "2020-09-18T13:03:39.778534Z",
          "iopub.status.idle": "2020-09-18T13:03:39.782676Z",
          "shell.execute_reply": "2020-09-18T13:03:39.782054Z"
        },
        "papermill": {
          "duration": 0.064101,
          "end_time": "2020-09-18T13:03:39.782824",
          "exception": false,
          "start_time": "2020-09-18T13:03:39.718723",
          "status": "completed"
        },
        "tags": [],
        "id": "OF7EUtujyBHf"
      },
      "source": [
        "## for FARE\n",
        "for dataset in data:\n",
        "    dataset['Fare'] = dataset['Fare'].fillna(0)\n",
        "    dataset['Fare'] = dataset['Fare'].astype(int)"
      ],
      "execution_count": 55,
      "outputs": []
    },
    {
      "cell_type": "code",
      "metadata": {
        "execution": {
          "iopub.execute_input": "2020-09-18T13:03:39.905656Z",
          "iopub.status.busy": "2020-09-18T13:03:39.891605Z",
          "iopub.status.idle": "2020-09-18T13:03:39.913448Z",
          "shell.execute_reply": "2020-09-18T13:03:39.912497Z"
        },
        "papermill": {
          "duration": 0.085264,
          "end_time": "2020-09-18T13:03:39.913638",
          "exception": false,
          "start_time": "2020-09-18T13:03:39.828374",
          "status": "completed"
        },
        "tags": [],
        "id": "OslORGejyBHg"
      },
      "source": [
        "## for NAME\n",
        "titles = {\"Mr\": 1, \"Miss\": 2, \"Mrs\": 3, \"Master\": 4, \"Rare\": 5}\n",
        "\n",
        "for dataset in data:\n",
        "    # extract titles\n",
        "    dataset['Title'] = dataset.Name.str.extract(' ([A-Za-z]+)\\.', expand=False)\n",
        "    # replace titles with a more common title or as Rare\n",
        "    dataset['Title'] = dataset['Title'].replace(['Lady', 'Countess','Capt', 'Col','Don', 'Dr',\\\n",
        "                                            'Major', 'Rev', 'Sir', 'Jonkheer', 'Dona'], 'Rare')\n",
        "    dataset['Title'] = dataset['Title'].replace('Mlle', 'Miss')\n",
        "    dataset['Title'] = dataset['Title'].replace('Ms', 'Miss')\n",
        "    dataset['Title'] = dataset['Title'].replace('Mme', 'Mrs')\n",
        "    # convert titles into numbers\n",
        "    dataset['Title'] = dataset['Title'].map(titles)\n",
        "    # filling NaN with 0, to get safe\n",
        "    dataset['Title'] = dataset['Title'].fillna(0)\n",
        "train_df = train_df.drop(['Name'], axis=1)\n",
        "test_df = test_df.drop(['Name'], axis=1)"
      ],
      "execution_count": 56,
      "outputs": []
    },
    {
      "cell_type": "code",
      "metadata": {
        "execution": {
          "iopub.execute_input": "2020-09-18T13:03:40.024649Z",
          "iopub.status.busy": "2020-09-18T13:03:40.023461Z",
          "iopub.status.idle": "2020-09-18T13:03:40.027162Z",
          "shell.execute_reply": "2020-09-18T13:03:40.026334Z"
        },
        "papermill": {
          "duration": 0.060578,
          "end_time": "2020-09-18T13:03:40.027297",
          "exception": false,
          "start_time": "2020-09-18T13:03:39.966719",
          "status": "completed"
        },
        "tags": [],
        "id": "IabjKODQyBHh"
      },
      "source": [
        "## for SEX\n",
        "genders = {\"male\": 0, \"female\": 1}\n",
        "data = [train_df, test_df]\n",
        "\n",
        "for dataset in data:\n",
        "    dataset['Sex'] = dataset['Sex'].map(genders)"
      ],
      "execution_count": 57,
      "outputs": []
    },
    {
      "cell_type": "markdown",
      "metadata": {
        "papermill": {
          "duration": 0.044976,
          "end_time": "2020-09-18T13:03:40.119538",
          "exception": false,
          "start_time": "2020-09-18T13:03:40.074562",
          "status": "completed"
        },
        "tags": [],
        "id": "Vs05VZi1yBHh"
      },
      "source": [
        "we cant see any use of ticket info related to survival rate so we drop this column"
      ]
    },
    {
      "cell_type": "code",
      "metadata": {
        "execution": {
          "iopub.execute_input": "2020-09-18T13:03:40.221485Z",
          "iopub.status.busy": "2020-09-18T13:03:40.218585Z",
          "iopub.status.idle": "2020-09-18T13:03:40.225940Z",
          "shell.execute_reply": "2020-09-18T13:03:40.225120Z"
        },
        "papermill": {
          "duration": 0.059105,
          "end_time": "2020-09-18T13:03:40.226073",
          "exception": false,
          "start_time": "2020-09-18T13:03:40.166968",
          "status": "completed"
        },
        "tags": [],
        "id": "DzzKGgVDyBHi"
      },
      "source": [
        "train_df = train_df.drop(['Ticket'], axis=1)\n",
        "test_df = test_df.drop(['Ticket'], axis=1)"
      ],
      "execution_count": 58,
      "outputs": []
    },
    {
      "cell_type": "code",
      "metadata": {
        "execution": {
          "iopub.execute_input": "2020-09-18T13:03:40.329945Z",
          "iopub.status.busy": "2020-09-18T13:03:40.329128Z",
          "iopub.status.idle": "2020-09-18T13:03:40.332493Z",
          "shell.execute_reply": "2020-09-18T13:03:40.331832Z"
        },
        "papermill": {
          "duration": 0.060162,
          "end_time": "2020-09-18T13:03:40.332630",
          "exception": false,
          "start_time": "2020-09-18T13:03:40.272468",
          "status": "completed"
        },
        "tags": [],
        "id": "gJop5r5PyBHi"
      },
      "source": [
        "## for EMBARKED\n",
        "data = [train_df, test_df]\n",
        "ports = {\"S\": 0, \"C\": 1, \"Q\": 2}\n",
        "for dataset in data:\n",
        "    dataset['Embarked'] = dataset['Embarked'].map(ports)"
      ],
      "execution_count": 59,
      "outputs": []
    },
    {
      "cell_type": "code",
      "metadata": {
        "execution": {
          "iopub.execute_input": "2020-09-18T13:03:40.441459Z",
          "iopub.status.busy": "2020-09-18T13:03:40.439699Z",
          "iopub.status.idle": "2020-09-18T13:03:40.466964Z",
          "shell.execute_reply": "2020-09-18T13:03:40.466270Z"
        },
        "papermill": {
          "duration": 0.088151,
          "end_time": "2020-09-18T13:03:40.467103",
          "exception": false,
          "start_time": "2020-09-18T13:03:40.378952",
          "status": "completed"
        },
        "tags": [],
        "colab": {
          "base_uri": "https://localhost:8080/"
        },
        "id": "tWqQocgsyBHj",
        "outputId": "6c1a5434-9d73-4a1f-e15c-e397cb3bd250"
      },
      "source": [
        "## for AGE\n",
        "data = [train_df, test_df]\n",
        "for dataset in data:\n",
        "    dataset['Age'] = dataset['Age'].astype(int)\n",
        "    dataset.loc[ dataset['Age'] <= 11, 'Age'] = 0\n",
        "    dataset.loc[(dataset['Age'] > 11) & (dataset['Age'] <= 18), 'Age'] = 1\n",
        "    dataset.loc[(dataset['Age'] > 18) & (dataset['Age'] <= 22), 'Age'] = 2\n",
        "    dataset.loc[(dataset['Age'] > 22) & (dataset['Age'] <= 27), 'Age'] = 3\n",
        "    dataset.loc[(dataset['Age'] > 27) & (dataset['Age'] <= 33), 'Age'] = 4\n",
        "    dataset.loc[(dataset['Age'] > 33) & (dataset['Age'] <= 40), 'Age'] = 5\n",
        "    dataset.loc[(dataset['Age'] > 40) & (dataset['Age'] <= 66), 'Age'] = 6\n",
        "    dataset.loc[ dataset['Age'] > 66, 'Age'] = 6\n",
        "train_df['Age'].value_counts()"
      ],
      "execution_count": 60,
      "outputs": [
        {
          "output_type": "execute_result",
          "data": {
            "text/plain": [
              "4    167\n",
              "6    159\n",
              "5    147\n",
              "3    140\n",
              "2    120\n",
              "1     90\n",
              "0     68\n",
              "Name: Age, dtype: int64"
            ]
          },
          "metadata": {
            "tags": []
          },
          "execution_count": 60
        }
      ]
    },
    {
      "cell_type": "code",
      "metadata": {
        "execution": {
          "iopub.execute_input": "2020-09-18T13:03:40.577143Z",
          "iopub.status.busy": "2020-09-18T13:03:40.568705Z",
          "iopub.status.idle": "2020-09-18T13:03:40.589539Z",
          "shell.execute_reply": "2020-09-18T13:03:40.588643Z"
        },
        "papermill": {
          "duration": 0.076325,
          "end_time": "2020-09-18T13:03:40.589688",
          "exception": false,
          "start_time": "2020-09-18T13:03:40.513363",
          "status": "completed"
        },
        "tags": [],
        "id": "NXeTEqaryBHk"
      },
      "source": [
        "## for CABIN\n",
        "import re\n",
        "deck = {\"A\": 1, \"B\": 2, \"C\": 3, \"D\": 4, \"E\": 5, \"F\": 6, \"G\": 7, \"U\": 8}\n",
        "data = [train_df, test_df]\n",
        "\n",
        "for dataset in data:\n",
        "    dataset['Cabin'] = dataset['Cabin'].fillna(\"U0\")\n",
        "    dataset['Deck'] = dataset['Cabin'].map(lambda x: re.compile(\"([a-zA-Z]+)\").search(x).group())\n",
        "    dataset['Deck'] = dataset['Deck'].map(deck)\n",
        "    dataset['Deck'] = dataset['Deck'].fillna(0)\n",
        "    dataset['Deck'] = dataset['Deck'].astype(int)# we can now drop the cabin feature\n",
        "train_df = train_df.drop(['Cabin'], axis=1)\n",
        "test_df = test_df.drop(['Cabin'], axis=1)"
      ],
      "execution_count": 61,
      "outputs": []
    },
    {
      "cell_type": "code",
      "metadata": {
        "execution": {
          "iopub.execute_input": "2020-09-18T13:03:40.708001Z",
          "iopub.status.busy": "2020-09-18T13:03:40.692158Z",
          "iopub.status.idle": "2020-09-18T13:03:40.711954Z",
          "shell.execute_reply": "2020-09-18T13:03:40.712658Z"
        },
        "papermill": {
          "duration": 0.077347,
          "end_time": "2020-09-18T13:03:40.712860",
          "exception": false,
          "start_time": "2020-09-18T13:03:40.635513",
          "status": "completed"
        },
        "tags": [],
        "id": "upg8eKWYyBHm"
      },
      "source": [
        "## for FARE\n",
        "data = [train_df, test_df]\n",
        "\n",
        "for dataset in data:\n",
        "    dataset.loc[ dataset['Fare'] <= 7.91, 'Fare'] = 0\n",
        "    dataset.loc[(dataset['Fare'] > 7.91) & (dataset['Fare'] <= 14.454), 'Fare'] = 1\n",
        "    dataset.loc[(dataset['Fare'] > 14.454) & (dataset['Fare'] <= 31), 'Fare']   = 2\n",
        "    dataset.loc[(dataset['Fare'] > 31) & (dataset['Fare'] <= 99), 'Fare']   = 3\n",
        "    dataset.loc[(dataset['Fare'] > 99) & (dataset['Fare'] <= 250), 'Fare']   = 4\n",
        "    dataset.loc[ dataset['Fare'] > 250, 'Fare'] = 5\n",
        "    dataset['Fare'] = dataset['Fare'].astype(int)"
      ],
      "execution_count": 62,
      "outputs": []
    },
    {
      "cell_type": "markdown",
      "metadata": {
        "papermill": {
          "duration": 0.046036,
          "end_time": "2020-09-18T13:03:40.805430",
          "exception": false,
          "start_time": "2020-09-18T13:03:40.759394",
          "status": "completed"
        },
        "tags": [],
        "id": "SKBlUHHryBHn"
      },
      "source": [
        "# 6. BUILDING MODELS "
      ]
    },
    {
      "cell_type": "code",
      "metadata": {
        "execution": {
          "iopub.execute_input": "2020-09-18T13:03:40.913942Z",
          "iopub.status.busy": "2020-09-18T13:03:40.912716Z",
          "iopub.status.idle": "2020-09-18T13:03:40.916533Z",
          "shell.execute_reply": "2020-09-18T13:03:40.915715Z"
        },
        "papermill": {
          "duration": 0.058907,
          "end_time": "2020-09-18T13:03:40.916672",
          "exception": false,
          "start_time": "2020-09-18T13:03:40.857765",
          "status": "completed"
        },
        "tags": [],
        "id": "Ihb2DdPlyBHo"
      },
      "source": [
        "X_train = train_df.drop([\"Survived\",\"PassengerId\"], axis=1)\n",
        "Y_train = train_df[\"Survived\"]\n",
        "X_test  = test_df.drop(\"PassengerId\", axis=1).copy()"
      ],
      "execution_count": 63,
      "outputs": []
    },
    {
      "cell_type": "code",
      "metadata": {
        "execution": {
          "iopub.execute_input": "2020-09-18T13:03:41.029247Z",
          "iopub.status.busy": "2020-09-18T13:03:41.022750Z",
          "iopub.status.idle": "2020-09-18T13:03:41.034664Z",
          "shell.execute_reply": "2020-09-18T13:03:41.033844Z"
        },
        "papermill": {
          "duration": 0.067635,
          "end_time": "2020-09-18T13:03:41.034799",
          "exception": false,
          "start_time": "2020-09-18T13:03:40.967164",
          "status": "completed"
        },
        "tags": [],
        "colab": {
          "base_uri": "https://localhost:8080/",
          "height": 194
        },
        "id": "RdVHt5HoyBHo",
        "outputId": "c9c254b2-c65e-4646-fca5-647de86f1177"
      },
      "source": [
        "X_train.head()"
      ],
      "execution_count": 64,
      "outputs": [
        {
          "output_type": "execute_result",
          "data": {
            "text/html": [
              "<div>\n",
              "<style scoped>\n",
              "    .dataframe tbody tr th:only-of-type {\n",
              "        vertical-align: middle;\n",
              "    }\n",
              "\n",
              "    .dataframe tbody tr th {\n",
              "        vertical-align: top;\n",
              "    }\n",
              "\n",
              "    .dataframe thead th {\n",
              "        text-align: right;\n",
              "    }\n",
              "</style>\n",
              "<table border=\"1\" class=\"dataframe\">\n",
              "  <thead>\n",
              "    <tr style=\"text-align: right;\">\n",
              "      <th></th>\n",
              "      <th>Pclass</th>\n",
              "      <th>Sex</th>\n",
              "      <th>Age</th>\n",
              "      <th>SibSp</th>\n",
              "      <th>Parch</th>\n",
              "      <th>Fare</th>\n",
              "      <th>Embarked</th>\n",
              "      <th>relatives</th>\n",
              "      <th>not_alone</th>\n",
              "      <th>Title</th>\n",
              "      <th>Deck</th>\n",
              "    </tr>\n",
              "  </thead>\n",
              "  <tbody>\n",
              "    <tr>\n",
              "      <th>0</th>\n",
              "      <td>3</td>\n",
              "      <td>0</td>\n",
              "      <td>2</td>\n",
              "      <td>1</td>\n",
              "      <td>0</td>\n",
              "      <td>0</td>\n",
              "      <td>0</td>\n",
              "      <td>1</td>\n",
              "      <td>0</td>\n",
              "      <td>1</td>\n",
              "      <td>8</td>\n",
              "    </tr>\n",
              "    <tr>\n",
              "      <th>1</th>\n",
              "      <td>1</td>\n",
              "      <td>1</td>\n",
              "      <td>5</td>\n",
              "      <td>1</td>\n",
              "      <td>0</td>\n",
              "      <td>3</td>\n",
              "      <td>1</td>\n",
              "      <td>1</td>\n",
              "      <td>0</td>\n",
              "      <td>3</td>\n",
              "      <td>3</td>\n",
              "    </tr>\n",
              "    <tr>\n",
              "      <th>2</th>\n",
              "      <td>3</td>\n",
              "      <td>1</td>\n",
              "      <td>3</td>\n",
              "      <td>0</td>\n",
              "      <td>0</td>\n",
              "      <td>0</td>\n",
              "      <td>0</td>\n",
              "      <td>0</td>\n",
              "      <td>1</td>\n",
              "      <td>2</td>\n",
              "      <td>8</td>\n",
              "    </tr>\n",
              "    <tr>\n",
              "      <th>3</th>\n",
              "      <td>1</td>\n",
              "      <td>1</td>\n",
              "      <td>5</td>\n",
              "      <td>1</td>\n",
              "      <td>0</td>\n",
              "      <td>3</td>\n",
              "      <td>0</td>\n",
              "      <td>1</td>\n",
              "      <td>0</td>\n",
              "      <td>3</td>\n",
              "      <td>3</td>\n",
              "    </tr>\n",
              "    <tr>\n",
              "      <th>4</th>\n",
              "      <td>3</td>\n",
              "      <td>0</td>\n",
              "      <td>5</td>\n",
              "      <td>0</td>\n",
              "      <td>0</td>\n",
              "      <td>1</td>\n",
              "      <td>0</td>\n",
              "      <td>0</td>\n",
              "      <td>1</td>\n",
              "      <td>1</td>\n",
              "      <td>8</td>\n",
              "    </tr>\n",
              "  </tbody>\n",
              "</table>\n",
              "</div>"
            ],
            "text/plain": [
              "   Pclass  Sex  Age  SibSp  Parch  ...  Embarked  relatives  not_alone  Title  Deck\n",
              "0       3    0    2      1      0  ...         0          1          0      1     8\n",
              "1       1    1    5      1      0  ...         1          1          0      3     3\n",
              "2       3    1    3      0      0  ...         0          0          1      2     8\n",
              "3       1    1    5      1      0  ...         0          1          0      3     3\n",
              "4       3    0    5      0      0  ...         0          0          1      1     8\n",
              "\n",
              "[5 rows x 11 columns]"
            ]
          },
          "metadata": {
            "tags": []
          },
          "execution_count": 64
        }
      ]
    },
    {
      "cell_type": "code",
      "metadata": {
        "execution": {
          "iopub.execute_input": "2020-09-18T13:03:41.145224Z",
          "iopub.status.busy": "2020-09-18T13:03:41.144131Z",
          "iopub.status.idle": "2020-09-18T13:03:41.149627Z",
          "shell.execute_reply": "2020-09-18T13:03:41.148776Z"
        },
        "papermill": {
          "duration": 0.067728,
          "end_time": "2020-09-18T13:03:41.149769",
          "exception": false,
          "start_time": "2020-09-18T13:03:41.082041",
          "status": "completed"
        },
        "tags": [],
        "colab": {
          "base_uri": "https://localhost:8080/",
          "height": 194
        },
        "id": "DGjB6y4cyBHp",
        "outputId": "d4a500a9-721d-41a5-d778-b9af90ffb976"
      },
      "source": [
        "X_test.head()"
      ],
      "execution_count": 65,
      "outputs": [
        {
          "output_type": "execute_result",
          "data": {
            "text/html": [
              "<div>\n",
              "<style scoped>\n",
              "    .dataframe tbody tr th:only-of-type {\n",
              "        vertical-align: middle;\n",
              "    }\n",
              "\n",
              "    .dataframe tbody tr th {\n",
              "        vertical-align: top;\n",
              "    }\n",
              "\n",
              "    .dataframe thead th {\n",
              "        text-align: right;\n",
              "    }\n",
              "</style>\n",
              "<table border=\"1\" class=\"dataframe\">\n",
              "  <thead>\n",
              "    <tr style=\"text-align: right;\">\n",
              "      <th></th>\n",
              "      <th>Pclass</th>\n",
              "      <th>Sex</th>\n",
              "      <th>Age</th>\n",
              "      <th>SibSp</th>\n",
              "      <th>Parch</th>\n",
              "      <th>Fare</th>\n",
              "      <th>Embarked</th>\n",
              "      <th>relatives</th>\n",
              "      <th>not_alone</th>\n",
              "      <th>Title</th>\n",
              "      <th>Deck</th>\n",
              "    </tr>\n",
              "  </thead>\n",
              "  <tbody>\n",
              "    <tr>\n",
              "      <th>0</th>\n",
              "      <td>3</td>\n",
              "      <td>0</td>\n",
              "      <td>2</td>\n",
              "      <td>0</td>\n",
              "      <td>0</td>\n",
              "      <td>0</td>\n",
              "      <td>2</td>\n",
              "      <td>0</td>\n",
              "      <td>1</td>\n",
              "      <td>1</td>\n",
              "      <td>8</td>\n",
              "    </tr>\n",
              "    <tr>\n",
              "      <th>1</th>\n",
              "      <td>3</td>\n",
              "      <td>1</td>\n",
              "      <td>5</td>\n",
              "      <td>1</td>\n",
              "      <td>0</td>\n",
              "      <td>0</td>\n",
              "      <td>0</td>\n",
              "      <td>1</td>\n",
              "      <td>0</td>\n",
              "      <td>3</td>\n",
              "      <td>8</td>\n",
              "    </tr>\n",
              "    <tr>\n",
              "      <th>2</th>\n",
              "      <td>2</td>\n",
              "      <td>0</td>\n",
              "      <td>3</td>\n",
              "      <td>0</td>\n",
              "      <td>0</td>\n",
              "      <td>1</td>\n",
              "      <td>2</td>\n",
              "      <td>0</td>\n",
              "      <td>1</td>\n",
              "      <td>1</td>\n",
              "      <td>8</td>\n",
              "    </tr>\n",
              "    <tr>\n",
              "      <th>3</th>\n",
              "      <td>3</td>\n",
              "      <td>0</td>\n",
              "      <td>5</td>\n",
              "      <td>0</td>\n",
              "      <td>0</td>\n",
              "      <td>1</td>\n",
              "      <td>0</td>\n",
              "      <td>0</td>\n",
              "      <td>1</td>\n",
              "      <td>1</td>\n",
              "      <td>8</td>\n",
              "    </tr>\n",
              "    <tr>\n",
              "      <th>4</th>\n",
              "      <td>3</td>\n",
              "      <td>1</td>\n",
              "      <td>5</td>\n",
              "      <td>1</td>\n",
              "      <td>1</td>\n",
              "      <td>1</td>\n",
              "      <td>0</td>\n",
              "      <td>2</td>\n",
              "      <td>0</td>\n",
              "      <td>3</td>\n",
              "      <td>8</td>\n",
              "    </tr>\n",
              "  </tbody>\n",
              "</table>\n",
              "</div>"
            ],
            "text/plain": [
              "   Pclass  Sex  Age  SibSp  Parch  ...  Embarked  relatives  not_alone  Title  Deck\n",
              "0       3    0    2      0      0  ...         2          0          1      1     8\n",
              "1       3    1    5      1      0  ...         0          1          0      3     8\n",
              "2       2    0    3      0      0  ...         2          0          1      1     8\n",
              "3       3    0    5      0      0  ...         0          0          1      1     8\n",
              "4       3    1    5      1      1  ...         0          2          0      3     8\n",
              "\n",
              "[5 rows x 11 columns]"
            ]
          },
          "metadata": {
            "tags": []
          },
          "execution_count": 65
        }
      ]
    },
    {
      "cell_type": "code",
      "metadata": {
        "execution": {
          "iopub.execute_input": "2020-09-18T13:03:41.270438Z",
          "iopub.status.busy": "2020-09-18T13:03:41.269532Z",
          "iopub.status.idle": "2020-09-18T13:03:41.904554Z",
          "shell.execute_reply": "2020-09-18T13:03:41.903703Z"
        },
        "papermill": {
          "duration": 0.707199,
          "end_time": "2020-09-18T13:03:41.904738",
          "exception": false,
          "start_time": "2020-09-18T13:03:41.197539",
          "status": "completed"
        },
        "tags": [],
        "colab": {
          "base_uri": "https://localhost:8080/"
        },
        "id": "GSv85IjByBHp",
        "outputId": "1e7901fb-17d5-4d6b-a5f5-9e3785ad91a3"
      },
      "source": [
        "#STOCHASTIC GRADIENT DESCENT\n",
        "sgd = linear_model.SGDClassifier(max_iter=5, tol=None)\n",
        "sgd.fit(X_train, Y_train)\n",
        "Y_pred = sgd.predict(X_test)\n",
        "sgd.score(X_train, Y_train)\n",
        "acc_sgd = round(sgd.score(X_train, Y_train) * 100, 2)\n",
        "\n",
        "#RANDOM FOREST\n",
        "random_forest = RandomForestClassifier(n_estimators=100)\n",
        "random_forest.fit(X_train, Y_train)\n",
        "Y_prediction = random_forest.predict(X_test)\n",
        "random_forest.score(X_train, Y_train)\n",
        "acc_random_forest = round(random_forest.score(X_train, Y_train) * 100, 2)\n",
        "\n",
        "#LOGISTIC REGRESSION\n",
        "logreg = LogisticRegression()\n",
        "logreg.fit(X_train, Y_train)\n",
        "Y_pred = logreg.predict(X_test)\n",
        "acc_log = round(logreg.score(X_train, Y_train) * 100, 2)\n",
        "\n",
        "#KNN\n",
        "knn = KNeighborsClassifier(n_neighbors = 3) \n",
        "knn.fit(X_train, Y_train)  \n",
        "Y_pred = knn.predict(X_test)  \n",
        "acc_knn = round(knn.score(X_train, Y_train) * 100, 2)\n",
        "\n",
        "#GAUSSIAN NAIVE BAYES\n",
        "gaussian = GaussianNB() \n",
        "gaussian.fit(X_train, Y_train)  \n",
        "Y_pred = gaussian.predict(X_test)  \n",
        "acc_gaussian = round(gaussian.score(X_train, Y_train) * 100, 2)\n",
        "\n",
        "#PERCEPTRON\n",
        "perceptron = Perceptron(max_iter=5)\n",
        "perceptron.fit(X_train, Y_train)\n",
        "Y_pred = perceptron.predict(X_test)\n",
        "acc_perceptron = round(perceptron.score(X_train, Y_train) * 100, 2)\n",
        "\n",
        "#LINEAR SUPPORT VECTOR MACHINE\n",
        "linear_svc = LinearSVC()\n",
        "linear_svc.fit(X_train, Y_train)\n",
        "Y_pred = linear_svc.predict(X_test)\n",
        "acc_linear_svc = round(linear_svc.score(X_train, Y_train) * 100, 2)\n",
        "\n",
        "#DECISION TREE\n",
        "decision_tree = DecisionTreeClassifier() \n",
        "decision_tree.fit(X_train, Y_train)  \n",
        "Y_pred = decision_tree.predict(X_test)  \n",
        "acc_decision_tree = round(decision_tree.score(X_train, Y_train) * 100, 2)"
      ],
      "execution_count": 66,
      "outputs": [
        {
          "output_type": "stream",
          "text": [
            "/usr/local/lib/python3.6/dist-packages/sklearn/linear_model/_stochastic_gradient.py:557: ConvergenceWarning: Maximum number of iteration reached before convergence. Consider increasing max_iter to improve the fit.\n",
            "  ConvergenceWarning)\n",
            "/usr/local/lib/python3.6/dist-packages/sklearn/svm/_base.py:947: ConvergenceWarning: Liblinear failed to converge, increase the number of iterations.\n",
            "  \"the number of iterations.\", ConvergenceWarning)\n"
          ],
          "name": "stderr"
        }
      ]
    },
    {
      "cell_type": "markdown",
      "metadata": {
        "papermill": {
          "duration": 0.054874,
          "end_time": "2020-09-18T13:03:42.012524",
          "exception": false,
          "start_time": "2020-09-18T13:03:41.957650",
          "status": "completed"
        },
        "tags": [],
        "id": "FPC6se14yBHr"
      },
      "source": [
        "# 7. CHECKING WHICH IS BEST MODEL"
      ]
    },
    {
      "cell_type": "code",
      "metadata": {
        "execution": {
          "iopub.execute_input": "2020-09-18T13:03:42.132745Z",
          "iopub.status.busy": "2020-09-18T13:03:42.131434Z",
          "iopub.status.idle": "2020-09-18T13:03:42.137049Z",
          "shell.execute_reply": "2020-09-18T13:03:42.136379Z"
        },
        "papermill": {
          "duration": 0.074759,
          "end_time": "2020-09-18T13:03:42.137191",
          "exception": false,
          "start_time": "2020-09-18T13:03:42.062432",
          "status": "completed"
        },
        "tags": [],
        "colab": {
          "base_uri": "https://localhost:8080/",
          "height": 311
        },
        "id": "1q7CzNZlyBHs",
        "outputId": "289d6389-c0ee-4396-d729-dd7b9d57a03d"
      },
      "source": [
        "results = pd.DataFrame({\n",
        "    'Model': ['Support Vector Machines', 'KNN', 'Logistic Regression', \n",
        "              'Random Forest', 'Naive Bayes', 'Perceptron', \n",
        "              'Stochastic Gradient Decent', \n",
        "              'Decision Tree'],\n",
        "    'Score': [acc_linear_svc, acc_knn, acc_log, \n",
        "              acc_random_forest, acc_gaussian, acc_perceptron, \n",
        "              acc_sgd, acc_decision_tree]})\n",
        "result_df = results.sort_values(by='Score', ascending=False)\n",
        "result_df = result_df.set_index('Score')\n",
        "result_df.head(9)"
      ],
      "execution_count": 67,
      "outputs": [
        {
          "output_type": "execute_result",
          "data": {
            "text/html": [
              "<div>\n",
              "<style scoped>\n",
              "    .dataframe tbody tr th:only-of-type {\n",
              "        vertical-align: middle;\n",
              "    }\n",
              "\n",
              "    .dataframe tbody tr th {\n",
              "        vertical-align: top;\n",
              "    }\n",
              "\n",
              "    .dataframe thead th {\n",
              "        text-align: right;\n",
              "    }\n",
              "</style>\n",
              "<table border=\"1\" class=\"dataframe\">\n",
              "  <thead>\n",
              "    <tr style=\"text-align: right;\">\n",
              "      <th></th>\n",
              "      <th>Model</th>\n",
              "    </tr>\n",
              "    <tr>\n",
              "      <th>Score</th>\n",
              "      <th></th>\n",
              "    </tr>\n",
              "  </thead>\n",
              "  <tbody>\n",
              "    <tr>\n",
              "      <th>92.48</th>\n",
              "      <td>Random Forest</td>\n",
              "    </tr>\n",
              "    <tr>\n",
              "      <th>92.48</th>\n",
              "      <td>Decision Tree</td>\n",
              "    </tr>\n",
              "    <tr>\n",
              "      <th>87.21</th>\n",
              "      <td>KNN</td>\n",
              "    </tr>\n",
              "    <tr>\n",
              "      <th>82.27</th>\n",
              "      <td>Perceptron</td>\n",
              "    </tr>\n",
              "    <tr>\n",
              "      <th>81.71</th>\n",
              "      <td>Logistic Regression</td>\n",
              "    </tr>\n",
              "    <tr>\n",
              "      <th>81.59</th>\n",
              "      <td>Support Vector Machines</td>\n",
              "    </tr>\n",
              "    <tr>\n",
              "      <th>78.90</th>\n",
              "      <td>Naive Bayes</td>\n",
              "    </tr>\n",
              "    <tr>\n",
              "      <th>78.45</th>\n",
              "      <td>Stochastic Gradient Decent</td>\n",
              "    </tr>\n",
              "  </tbody>\n",
              "</table>\n",
              "</div>"
            ],
            "text/plain": [
              "                            Model\n",
              "Score                            \n",
              "92.48               Random Forest\n",
              "92.48               Decision Tree\n",
              "87.21                         KNN\n",
              "82.27                  Perceptron\n",
              "81.71         Logistic Regression\n",
              "81.59     Support Vector Machines\n",
              "78.90                 Naive Bayes\n",
              "78.45  Stochastic Gradient Decent"
            ]
          },
          "metadata": {
            "tags": []
          },
          "execution_count": 67
        }
      ]
    },
    {
      "cell_type": "markdown",
      "metadata": {
        "papermill": {
          "duration": 0.049135,
          "end_time": "2020-09-18T13:03:42.235301",
          "exception": false,
          "start_time": "2020-09-18T13:03:42.186166",
          "status": "completed"
        },
        "tags": [],
        "id": "7_LCZJMkyBHs"
      },
      "source": [
        "# AS WE CAN SEE RANDOM FOREST APPEARS ON THE TOP SO WE GO AHEAD WITH RANDOM FOREST"
      ]
    },
    {
      "cell_type": "code",
      "metadata": {
        "execution": {
          "iopub.execute_input": "2020-09-18T13:03:42.344381Z",
          "iopub.status.busy": "2020-09-18T13:03:42.343490Z",
          "iopub.status.idle": "2020-09-18T13:03:45.203825Z",
          "shell.execute_reply": "2020-09-18T13:03:45.203015Z"
        },
        "papermill": {
          "duration": 2.918307,
          "end_time": "2020-09-18T13:03:45.203982",
          "exception": false,
          "start_time": "2020-09-18T13:03:42.285675",
          "status": "completed"
        },
        "tags": [],
        "colab": {
          "base_uri": "https://localhost:8080/"
        },
        "id": "3M_EKQIryBHt",
        "outputId": "895c434f-dffa-4a1b-ce85-cac6c9a18634"
      },
      "source": [
        "from sklearn.model_selection import cross_val_score\n",
        "rf = RandomForestClassifier(n_estimators=100)\n",
        "scores = cross_val_score(rf, X_train, Y_train, cv=10, scoring = \"accuracy\")\n",
        "print(\"Scores:\", scores)\n",
        "print(\"Mean:\", scores.mean())\n",
        "print(\"Standard Deviation:\", scores.std())"
      ],
      "execution_count": 68,
      "outputs": [
        {
          "output_type": "stream",
          "text": [
            "Scores: [0.75555556 0.83146067 0.73033708 0.84269663 0.86516854 0.84269663\n",
            " 0.78651685 0.7752809  0.86516854 0.83146067]\n",
            "Mean: 0.8126342072409487\n",
            "Standard Deviation: 0.04488235497375034\n"
          ],
          "name": "stdout"
        }
      ]
    },
    {
      "cell_type": "markdown",
      "metadata": {
        "papermill": {
          "duration": 0.049958,
          "end_time": "2020-09-18T13:03:45.303555",
          "exception": false,
          "start_time": "2020-09-18T13:03:45.253597",
          "status": "completed"
        },
        "tags": [],
        "id": "Wm_9f92-yBHt"
      },
      "source": [
        "OUR MODEL HAS ACCURACY AVERAGE OF 82%. SINCE OUR STANDARD DEVIATION IS AROUND 4% THAT MEANS WE CAN STILL TRY FURTHER TO IMPROVE OUR ACCURACY"
      ]
    },
    {
      "cell_type": "markdown",
      "metadata": {
        "papermill": {
          "duration": 0.051071,
          "end_time": "2020-09-18T13:03:45.407171",
          "exception": false,
          "start_time": "2020-09-18T13:03:45.356100",
          "status": "completed"
        },
        "tags": [],
        "id": "L3394LkdyBHu"
      },
      "source": [
        "# FEATURE IMPORTANCE"
      ]
    },
    {
      "cell_type": "code",
      "metadata": {
        "execution": {
          "iopub.execute_input": "2020-09-18T13:03:45.517105Z",
          "iopub.status.busy": "2020-09-18T13:03:45.515873Z",
          "iopub.status.idle": "2020-09-18T13:03:45.777013Z",
          "shell.execute_reply": "2020-09-18T13:03:45.776128Z"
        },
        "papermill": {
          "duration": 0.319677,
          "end_time": "2020-09-18T13:03:45.777155",
          "exception": false,
          "start_time": "2020-09-18T13:03:45.457478",
          "status": "completed"
        },
        "tags": [],
        "colab": {
          "base_uri": "https://localhost:8080/",
          "height": 338
        },
        "id": "e58TvcAbyBHu",
        "outputId": "ec7e0469-dfd2-4b76-a641-4c30f7412d60"
      },
      "source": [
        "importances = pd.DataFrame({'feature':X_train.columns,'importance':np.round(random_forest.feature_importances_,3)})\n",
        "importances = importances.sort_values('importance',ascending=False).set_index('feature')\n",
        "importances.plot.bar()"
      ],
      "execution_count": 69,
      "outputs": [
        {
          "output_type": "execute_result",
          "data": {
            "text/plain": [
              "<matplotlib.axes._subplots.AxesSubplot at 0x7f5738bd71d0>"
            ]
          },
          "metadata": {
            "tags": []
          },
          "execution_count": 69
        },
        {
          "output_type": "display_data",
          "data": {
            "image/png": "[encoded data removed]",
            "text/plain": [
              "<Figure size 432x288 with 1 Axes>"
            ]
          },
          "metadata": {
            "tags": [],
            "needs_background": "light"
          }
        }
      ]
    },
    {
      "cell_type": "markdown",
      "metadata": {
        "papermill": {
          "duration": 0.050616,
          "end_time": "2020-09-18T13:03:45.879144",
          "exception": false,
          "start_time": "2020-09-18T13:03:45.828528",
          "status": "completed"
        },
        "tags": [],
        "id": "sABr_jBuyBHv"
      },
      "source": [
        "not_alone and Parch doesn’t play a significant role in our random forest classifiers prediction process. Because of that I will drop them and check accuracy of classifier again"
      ]
    },
    {
      "cell_type": "code",
      "metadata": {
        "execution": {
          "iopub.execute_input": "2020-09-18T13:03:45.994966Z",
          "iopub.status.busy": "2020-09-18T13:03:45.993668Z",
          "iopub.status.idle": "2020-09-18T13:03:45.997868Z",
          "shell.execute_reply": "2020-09-18T13:03:45.997171Z"
        },
        "papermill": {
          "duration": 0.067925,
          "end_time": "2020-09-18T13:03:45.998032",
          "exception": false,
          "start_time": "2020-09-18T13:03:45.930107",
          "status": "completed"
        },
        "tags": [],
        "id": "9RkxbdJ8yBHv"
      },
      "source": [
        "train_df  = train_df.drop(\"not_alone\", axis=1)\n",
        "test_df  = test_df.drop(\"not_alone\", axis=1)\n",
        "\n",
        "train_df  = train_df.drop(\"Parch\", axis=1)\n",
        "test_df  = test_df.drop(\"Parch\", axis=1)"
      ],
      "execution_count": 70,
      "outputs": []
    },
    {
      "cell_type": "code",
      "metadata": {
        "execution": {
          "iopub.execute_input": "2020-09-18T13:03:46.112189Z",
          "iopub.status.busy": "2020-09-18T13:03:46.111335Z",
          "iopub.status.idle": "2020-09-18T13:03:46.546277Z",
          "shell.execute_reply": "2020-09-18T13:03:46.545627Z"
        },
        "papermill": {
          "duration": 0.497037,
          "end_time": "2020-09-18T13:03:46.546422",
          "exception": false,
          "start_time": "2020-09-18T13:03:46.049385",
          "status": "completed"
        },
        "tags": [],
        "colab": {
          "base_uri": "https://localhost:8080/"
        },
        "id": "SO_dJ29CyBHw",
        "outputId": "53f80191-43cb-46a9-cd9e-bf712af09f35"
      },
      "source": [
        "random_forest = RandomForestClassifier(n_estimators=100, oob_score = True)\n",
        "random_forest.fit(X_train, Y_train)\n",
        "Y_prediction = random_forest.predict(X_test)\n",
        "\n",
        "random_forest.score(X_train, Y_train)\n",
        "\n",
        "acc_random_forest = round(random_forest.score(X_train, Y_train) * 100, 2)\n",
        "print(round(acc_random_forest,2,), \"%\")"
      ],
      "execution_count": 71,
      "outputs": [
        {
          "output_type": "stream",
          "text": [
            "92.48 %\n"
          ],
          "name": "stdout"
        }
      ]
    },
    {
      "cell_type": "markdown",
      "metadata": {
        "papermill": {
          "duration": 0.051248,
          "end_time": "2020-09-18T13:03:46.649287",
          "exception": false,
          "start_time": "2020-09-18T13:03:46.598039",
          "status": "completed"
        },
        "tags": [],
        "id": "Qcqb8tlhyBHw"
      },
      "source": [
        "AS YOU CAN SEE WE GOT ACCURACY OF 92.82%, WE WILL STILL TRY TO SEE WHETHER IT GOES AHEAD"
      ]
    },
    {
      "cell_type": "code",
      "metadata": {
        "execution": {
          "iopub.execute_input": "2020-09-18T13:03:46.760235Z",
          "iopub.status.busy": "2020-09-18T13:03:46.759377Z",
          "iopub.status.idle": "2020-09-18T13:03:47.751755Z",
          "shell.execute_reply": "2020-09-18T13:03:47.750856Z"
        },
        "papermill": {
          "duration": 1.051159,
          "end_time": "2020-09-18T13:03:47.751917",
          "exception": false,
          "start_time": "2020-09-18T13:03:46.700758",
          "status": "completed"
        },
        "tags": [],
        "colab": {
          "base_uri": "https://localhost:8080/"
        },
        "id": "BECel3qlyBHx",
        "outputId": "a62bc77e-2e88-46a6-eddf-a9901647577f"
      },
      "source": [
        "from sklearn.model_selection import cross_val_predict\n",
        "from sklearn.metrics import confusion_matrix\n",
        "predictions = cross_val_predict(random_forest, X_train, Y_train, cv=3)\n",
        "confusion_matrix(Y_train, predictions)"
      ],
      "execution_count": 72,
      "outputs": [
        {
          "output_type": "execute_result",
          "data": {
            "text/plain": [
              "array([[483,  66],\n",
              "       [103, 239]])"
            ]
          },
          "metadata": {
            "tags": []
          },
          "execution_count": 72
        }
      ]
    },
    {
      "cell_type": "markdown",
      "metadata": {
        "papermill": {
          "duration": 0.052775,
          "end_time": "2020-09-18T13:03:47.857110",
          "exception": false,
          "start_time": "2020-09-18T13:03:47.804335",
          "status": "completed"
        },
        "tags": [],
        "id": "uZ6lyImmyBHx"
      },
      "source": [
        "492 passengers were correctly classified as not survived (called true negatives) and 57 where wrongly classified as not survived (false positives).\n",
        "95 passengers where wrongly classified as survived (false negatives) and 247 where correctly classified as survived (true positives)."
      ]
    },
    {
      "cell_type": "markdown",
      "metadata": {
        "papermill": {
          "duration": 0.051961,
          "end_time": "2020-09-18T13:03:47.961032",
          "exception": false,
          "start_time": "2020-09-18T13:03:47.909071",
          "status": "completed"
        },
        "tags": [],
        "id": "OtKeXjltyBHx"
      },
      "source": [
        "now we will check f score which is combination of our precision and recall and we will plot both graphs"
      ]
    },
    {
      "cell_type": "code",
      "metadata": {
        "execution": {
          "iopub.execute_input": "2020-09-18T13:03:48.074523Z",
          "iopub.status.busy": "2020-09-18T13:03:48.073623Z",
          "iopub.status.idle": "2020-09-18T13:03:48.080754Z",
          "shell.execute_reply": "2020-09-18T13:03:48.081345Z"
        },
        "papermill": {
          "duration": 0.066115,
          "end_time": "2020-09-18T13:03:48.081522",
          "exception": false,
          "start_time": "2020-09-18T13:03:48.015407",
          "status": "completed"
        },
        "tags": [],
        "colab": {
          "base_uri": "https://localhost:8080/"
        },
        "id": "luo69-xjyBHx",
        "outputId": "ee43480c-a0bb-4193-8d53-c609f62d4518"
      },
      "source": [
        "from sklearn.metrics import f1_score\n",
        "f1_score(Y_train, predictions)"
      ],
      "execution_count": 73,
      "outputs": [
        {
          "output_type": "execute_result",
          "data": {
            "text/plain": [
              "0.7387944358578054"
            ]
          },
          "metadata": {
            "tags": []
          },
          "execution_count": 73
        }
      ]
    },
    {
      "cell_type": "code",
      "metadata": {
        "execution": {
          "iopub.execute_input": "2020-09-18T13:03:48.204994Z",
          "iopub.status.busy": "2020-09-18T13:03:48.204043Z",
          "iopub.status.idle": "2020-09-18T13:03:48.457252Z",
          "shell.execute_reply": "2020-09-18T13:03:48.456338Z"
        },
        "papermill": {
          "duration": 0.322715,
          "end_time": "2020-09-18T13:03:48.457401",
          "exception": false,
          "start_time": "2020-09-18T13:03:48.134686",
          "status": "completed"
        },
        "tags": [],
        "colab": {
          "base_uri": "https://localhost:8080/",
          "height": 455
        },
        "id": "gTXPGoWeyBHy",
        "outputId": "c18845a4-1698-4379-8f1a-977e21c0ad76"
      },
      "source": [
        "from sklearn.metrics import precision_recall_curve\n",
        "\n",
        "# getting the probabilities of our predictions\n",
        "y_scores = random_forest.predict_proba(X_train)\n",
        "y_scores = y_scores[:,1]\n",
        "\n",
        "precision, recall, threshold = precision_recall_curve(Y_train, y_scores)\n",
        "def plot_precision_and_recall(precision, recall, threshold):\n",
        "    plt.plot(threshold, precision[:-1], \"r-\", label=\"precision\", linewidth=5)\n",
        "    plt.plot(threshold, recall[:-1], \"b\", label=\"recall\", linewidth=5)\n",
        "    plt.xlabel(\"threshold\", fontsize=19)\n",
        "    plt.legend(loc=\"upper right\", fontsize=19)\n",
        "    plt.ylim([0, 1])\n",
        "\n",
        "plt.figure(figsize=(14, 7))\n",
        "plot_precision_and_recall(precision, recall, threshold)\n",
        "plt.show()"
      ],
      "execution_count": 74,
      "outputs": [
        {
          "output_type": "display_data",
          "data": {
            "image/png": "[encoded data removed]",
            "text/plain": [
              "<Figure size 1008x504 with 1 Axes>"
            ]
          },
          "metadata": {
            "tags": [],
            "needs_background": "light"
          }
        }
      ]
    },
    {
      "cell_type": "code",
      "metadata": {
        "execution": {
          "iopub.execute_input": "2020-09-18T13:03:48.580081Z",
          "iopub.status.busy": "2020-09-18T13:03:48.579145Z",
          "iopub.status.idle": "2020-09-18T13:03:48.796415Z",
          "shell.execute_reply": "2020-09-18T13:03:48.797000Z"
        },
        "papermill": {
          "duration": 0.283918,
          "end_time": "2020-09-18T13:03:48.797173",
          "exception": false,
          "start_time": "2020-09-18T13:03:48.513255",
          "status": "completed"
        },
        "tags": [],
        "colab": {
          "base_uri": "https://localhost:8080/",
          "height": 451
        },
        "id": "JE6f75ktyBHy",
        "outputId": "5bb62da2-cfbe-4b78-9e1a-4ba0f3a6b3b0"
      },
      "source": [
        "from sklearn.metrics import roc_curve\n",
        "# compute true positive rate and false positive rate\n",
        "false_positive_rate, true_positive_rate, thresholds = roc_curve(Y_train, y_scores)# plotting them against each other\n",
        "def plot_roc_curve(false_positive_rate, true_positive_rate, label=None):\n",
        "    plt.plot(false_positive_rate, true_positive_rate, linewidth=2, label=label)\n",
        "    plt.plot([0, 1], [0, 1], 'r', linewidth=4)\n",
        "    plt.axis([0, 1, 0, 1])\n",
        "    plt.xlabel('False Positive Rate (FPR)', fontsize=16)\n",
        "    plt.ylabel('True Positive Rate (TPR)', fontsize=16)\n",
        "\n",
        "plt.figure(figsize=(14, 7))\n",
        "plot_roc_curve(false_positive_rate, true_positive_rate)\n",
        "plt.show()"
      ],
      "execution_count": 75,
      "outputs": [
        {
          "output_type": "display_data",
          "data": {
            "image/png": "[encoded data removed]",
            "text/plain": [
              "<Figure size 1008x504 with 1 Axes>"
            ]
          },
          "metadata": {
            "tags": [],
            "needs_background": "light"
          }
        }
      ]
    },
    {
      "cell_type": "markdown",
      "metadata": {
        "papermill": {
          "duration": 0.059375,
          "end_time": "2020-09-18T13:03:48.913016",
          "exception": false,
          "start_time": "2020-09-18T13:03:48.853641",
          "status": "completed"
        },
        "tags": [],
        "id": "q4q2b7uryBHy"
      },
      "source": [
        "now we will check ROC AUC SCORE i.e. accuracy of our model"
      ]
    },
    {
      "cell_type": "code",
      "metadata": {
        "execution": {
          "iopub.execute_input": "2020-09-18T13:03:49.039759Z",
          "iopub.status.busy": "2020-09-18T13:03:49.038839Z",
          "iopub.status.idle": "2020-09-18T13:03:49.045118Z",
          "shell.execute_reply": "2020-09-18T13:03:49.045695Z"
        },
        "papermill": {
          "duration": 0.074116,
          "end_time": "2020-09-18T13:03:49.045873",
          "exception": false,
          "start_time": "2020-09-18T13:03:48.971757",
          "status": "completed"
        },
        "tags": [],
        "colab": {
          "base_uri": "https://localhost:8080/"
        },
        "id": "ppiGLXQ5yBHz",
        "outputId": "4ef2882d-7bda-4f09-ceb0-639d579387cc"
      },
      "source": [
        "from sklearn.metrics import roc_auc_score\n",
        "r_a_score = roc_auc_score(Y_train, y_scores)\n",
        "print(\"ROC-AUC-Score:\", r_a_score)"
      ],
      "execution_count": 76,
      "outputs": [
        {
          "output_type": "stream",
          "text": [
            "ROC-AUC-Score: 0.9693754726829216\n"
          ],
          "name": "stdout"
        }
      ]
    }
  ]
}